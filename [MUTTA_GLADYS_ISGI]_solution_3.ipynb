{
  "nbformat": 4,
  "nbformat_minor": 0,
  "metadata": {
    "colab": {
      "provenance": [],
      "collapsed_sections": [],
      "authorship_tag": "ABX9TyPjGJAnOD5YLNLS8ywToAMx",
      "include_colab_link": true
    },
    "kernelspec": {
      "name": "python3",
      "display_name": "Python 3"
    },
    "language_info": {
      "name": "python"
    }
  },
  "cells": [
    {
      "cell_type": "markdown",
      "metadata": {
        "id": "view-in-github",
        "colab_type": "text"
      },
      "source": [
        "<a href=\"https://colab.research.google.com/github/MUTTA-ISIGI/basic-ml-course/blob/master/%5BMUTTA_GLADYS_ISGI%5D_solution_3.ipynb\" target=\"_parent\"><img src=\"https://colab.research.google.com/assets/colab-badge.svg\" alt=\"Open In Colab\"/></a>"
      ]
    },
    {
      "cell_type": "code",
      "execution_count": 1,
      "metadata": {
        "id": "qvszTznrbqo1"
      },
      "outputs": [],
      "source": [
        "import numpy as np\n",
        "import pandas as pd"
      ]
    },
    {
      "cell_type": "code",
      "source": [
        "from sklearn.datasets import load_iris\n",
        "data = load_iris()\n",
        "X, Y = data.data, data.target"
      ],
      "metadata": {
        "id": "XsMlJb-keFez"
      },
      "execution_count": 2,
      "outputs": []
    },
    {
      "cell_type": "code",
      "source": [
        "X.shape,Y.shape"
      ],
      "metadata": {
        "colab": {
          "base_uri": "https://localhost:8080/"
        },
        "id": "y8ZY8iSujlPG",
        "outputId": "fa9c8cf1-61eb-4bc6-c129-c23c143d18fa"
      },
      "execution_count": 3,
      "outputs": [
        {
          "output_type": "execute_result",
          "data": {
            "text/plain": [
              "((150, 4), (150,))"
            ]
          },
          "metadata": {},
          "execution_count": 3
        }
      ]
    },
    {
      "cell_type": "code",
      "source": [
        "print(Y)"
      ],
      "metadata": {
        "colab": {
          "base_uri": "https://localhost:8080/"
        },
        "id": "Dcfy6pMtmCpZ",
        "outputId": "a7623e4e-a381-4b92-85b3-13b57a9967fa"
      },
      "execution_count": 4,
      "outputs": [
        {
          "output_type": "stream",
          "name": "stdout",
          "text": [
            "[0 0 0 0 0 0 0 0 0 0 0 0 0 0 0 0 0 0 0 0 0 0 0 0 0 0 0 0 0 0 0 0 0 0 0 0 0\n",
            " 0 0 0 0 0 0 0 0 0 0 0 0 0 1 1 1 1 1 1 1 1 1 1 1 1 1 1 1 1 1 1 1 1 1 1 1 1\n",
            " 1 1 1 1 1 1 1 1 1 1 1 1 1 1 1 1 1 1 1 1 1 1 1 1 1 1 2 2 2 2 2 2 2 2 2 2 2\n",
            " 2 2 2 2 2 2 2 2 2 2 2 2 2 2 2 2 2 2 2 2 2 2 2 2 2 2 2 2 2 2 2 2 2 2 2 2 2\n",
            " 2 2]\n"
          ]
        }
      ]
    },
    {
      "cell_type": "code",
      "source": [
        "# only classify class 1 vs. class 2\n",
        "# Your code here\n",
        "\n",
        "\n",
        "X = X[50:150]\n",
        "Y = Y[50:150]\n",
        " \n",
        "\n",
        "print(X.shape)\n",
        "print(Y.shape)\n",
        "\n",
        "Y -= 1 #We need our label to be 0 and 1\n",
        "\n",
        "assert X.shape == (100, 4) #just to make sure"
      ],
      "metadata": {
        "id": "KDc3xQDNeLlB",
        "colab": {
          "base_uri": "https://localhost:8080/"
        },
        "outputId": "ee61b682-290e-4c53-8de9-4ee0721c4cfa"
      },
      "execution_count": 5,
      "outputs": [
        {
          "output_type": "stream",
          "name": "stdout",
          "text": [
            "(100, 4)\n",
            "(100,)\n"
          ]
        }
      ]
    },
    {
      "cell_type": "code",
      "source": [
        "print(Y)"
      ],
      "metadata": {
        "colab": {
          "base_uri": "https://localhost:8080/"
        },
        "id": "biGbPcmkmTkn",
        "outputId": "11ff40cd-c48a-4785-d2be-dfc508e7d0b4"
      },
      "execution_count": 6,
      "outputs": [
        {
          "output_type": "stream",
          "name": "stdout",
          "text": [
            "[0 0 0 0 0 0 0 0 0 0 0 0 0 0 0 0 0 0 0 0 0 0 0 0 0 0 0 0 0 0 0 0 0 0 0 0 0\n",
            " 0 0 0 0 0 0 0 0 0 0 0 0 0 1 1 1 1 1 1 1 1 1 1 1 1 1 1 1 1 1 1 1 1 1 1 1 1\n",
            " 1 1 1 1 1 1 1 1 1 1 1 1 1 1 1 1 1 1 1 1 1 1 1 1 1 1]\n"
          ]
        }
      ]
    },
    {
      "cell_type": "code",
      "source": [
        "# Write your code here.\n",
        "\n",
        "#x_means = X.mean()\n",
        "#x_stdevs = X.std()\n",
        "#X = (X - x_means) / x_stdevs\n",
        "import math\n",
        "def the_means(array):\n",
        "  feature_sum = sum(array)\n",
        "  return feature_sum/len(array)\n",
        "\n",
        "def std_dev(array, mean):\n",
        "  var  = 0\n",
        "  for feature in array:\n",
        "    var += ((feature - mean) ** 2)\n",
        "  var /= len(array)\n",
        "  std = math.sqrt(var)\n",
        "  return std\n",
        "\n",
        "def get_z_value(x,means,std_devs):\n",
        "  z = np.array([(x[i] - means[i])/std_devs[i] for i in range(len(x))])\n",
        "  return z\n",
        "  "
      ],
      "metadata": {
        "id": "p7M7lvU1iUXB"
      },
      "execution_count": 7,
      "outputs": []
    },
    {
      "cell_type": "code",
      "source": [
        "# Your code here\n",
        "X = np.hstack([np.ones([X.shape[0],1]), X])\n",
        "print(X.shape)\n",
        "\n",
        "\n",
        "# checking the shape of X\n",
        "assert X.shape == (100, 5)"
      ],
      "metadata": {
        "id": "zu5FfVng4jHf",
        "colab": {
          "base_uri": "https://localhost:8080/"
        },
        "outputId": "050fe654-42f8-4cad-d8de-cf784009d41b"
      },
      "execution_count": 8,
      "outputs": [
        {
          "output_type": "stream",
          "name": "stdout",
          "text": [
            "(100, 5)\n"
          ]
        }
      ]
    },
    {
      "cell_type": "code",
      "source": [
        "\n",
        "# Your code here\n",
        "weight = np.zeros((5,))\n",
        "print(weight)\n",
        "print(weight.shape)\n",
        "\n",
        "assert weight.shape == (5, )"
      ],
      "metadata": {
        "colab": {
          "base_uri": "https://localhost:8080/"
        },
        "id": "KVD8YIpr6qtx",
        "outputId": "7109420a-360a-40ad-f0c5-aded8bdd4131"
      },
      "execution_count": 9,
      "outputs": [
        {
          "output_type": "stream",
          "name": "stdout",
          "text": [
            "[0. 0. 0. 0. 0.]\n",
            "(5,)\n"
          ]
        }
      ]
    },
    {
      "cell_type": "code",
      "source": [
        "import numpy as np\n",
        "\n",
        "def sigmoid(z):\n",
        "    # Your code here\n",
        "    sigmoid =  1.0 / (1.0 + np.exp(-z))\n",
        "    return sigmoid"
      ],
      "metadata": {
        "id": "qt47ExMfA44j"
      },
      "execution_count": 10,
      "outputs": []
    },
    {
      "cell_type": "code",
      "source": [
        "from sklearn.linear_model import LogisticRegression\n",
        "def accuracy(X, Y, weight):\n",
        "    '''\n",
        "    Evaluate the model, represented by `weight`, with data (X, Y).\n",
        "    \n",
        "    Input:\n",
        "        X:      data features\n",
        "        Y:      data labels\n",
        "        weight: model weights\n",
        "    Ouput:\n",
        "        Model accuracy on input data.\n",
        "    '''\n",
        "    # implement your code here. Below are only some suggestion. \n",
        "    # You don't necessary have to follow the exact step\n",
        "\n",
        "    #Step 1: get the model prediction\n",
        "\n",
        "    #Step 2: Threshold the probability value to get the class. \n",
        "\n",
        "    #Step 3: Compare your model predicted classes with the label y\n",
        "\n",
        "    #step 4: calculate the accuracy using the formula above\n",
        "   # Defining a function which takes true values of the sample and values predicted by the model  \n",
        "    datapoints = len(Y)\n",
        "    Y_predict = sigmoid(X@weight)\n",
        "    Y_predict = (Y_predict < 2).astype(int)\n",
        "    correctly_predicted = 0\n",
        "    # iterating over every label and checking it with the true sample  \n",
        "    for Y_value in range (len(Y_predict), len(Y)):  \n",
        "        if Y_predict[Y_value] == Y[Y_value]:  \n",
        "            correctly_predicted += 1  \n",
        "    # computing the accuracy score  \n",
        "    accuracy_score = correctly_predicted / len(Y)  \n",
        "    return accuracy_score  \n",
        "accuracy(X, Y, weight)"
      ],
      "metadata": {
        "id": "pFRPe2jrJxXh",
        "colab": {
          "base_uri": "https://localhost:8080/"
        },
        "outputId": "53a275b5-abf9-4aad-b52b-cb83fe9147f3"
      },
      "execution_count": 11,
      "outputs": [
        {
          "output_type": "execute_result",
          "data": {
            "text/plain": [
              "0.0"
            ]
          },
          "metadata": {},
          "execution_count": 11
        }
      ]
    },
    {
      "cell_type": "code",
      "source": [
        "#Don't change these\n",
        "# learning rate\n",
        "alpha = 1e-2\n",
        "# epochs\n",
        "epoch = 10000"
      ],
      "metadata": {
        "id": "7d8hlWjs-VgV"
      },
      "execution_count": 12,
      "outputs": []
    },
    {
      "cell_type": "code",
      "source": [
        "# your code here\n",
        "\n",
        "for ep in range(epoch):\n",
        "      Y_predict =   sigmoid(X@weight)\n",
        "      cost_function = -np.sum(Y * (Y_predict) + (1 - Y) * (1 - Y_predict))\n",
        "      m = Y_predict.size\n",
        "      gradient = 1/m * X.T @(Y - Y_predict)\n",
        "      weight = weight - alpha * gradient\n",
        "      accuracy =  cost_function/ weight\n",
        "print(accuracy)\n",
        "\n",
        "# just to double check\n",
        "assert np.allclose(weight, np.array([0.12047504, -0.44156746, -0.89309501, 2.965364, 3.3427994]))"
      ],
      "metadata": {
        "colab": {
          "base_uri": "https://localhost:8080/",
          "height": 252
        },
        "id": "xgAIN36u-Ynk",
        "outputId": "e4baea8c-07d9-467f-a0ce-07611552760e"
      },
      "execution_count": 17,
      "outputs": [
        {
          "output_type": "stream",
          "name": "stderr",
          "text": [
            "/usr/local/lib/python3.7/dist-packages/ipykernel_launcher.py:5: RuntimeWarning: overflow encountered in exp\n",
            "  \"\"\"\n"
          ]
        },
        {
          "output_type": "stream",
          "name": "stdout",
          "text": [
            "[0.33347061 0.05061674 0.11212688 0.06006007 0.16458319]\n"
          ]
        },
        {
          "output_type": "error",
          "ename": "AssertionError",
          "evalue": "ignored",
          "traceback": [
            "\u001b[0;31m---------------------------------------------------------------------------\u001b[0m",
            "\u001b[0;31mAssertionError\u001b[0m                            Traceback (most recent call last)",
            "\u001b[0;32m<ipython-input-17-a4095b5c7fdf>\u001b[0m in \u001b[0;36m<module>\u001b[0;34m\u001b[0m\n\u001b[1;32m     11\u001b[0m \u001b[0;34m\u001b[0m\u001b[0m\n\u001b[1;32m     12\u001b[0m \u001b[0;31m# just to double check\u001b[0m\u001b[0;34m\u001b[0m\u001b[0;34m\u001b[0m\u001b[0;34m\u001b[0m\u001b[0m\n\u001b[0;32m---> 13\u001b[0;31m \u001b[0;32massert\u001b[0m \u001b[0mnp\u001b[0m\u001b[0;34m.\u001b[0m\u001b[0mallclose\u001b[0m\u001b[0;34m(\u001b[0m\u001b[0mweight\u001b[0m\u001b[0;34m,\u001b[0m \u001b[0mnp\u001b[0m\u001b[0;34m.\u001b[0m\u001b[0marray\u001b[0m\u001b[0;34m(\u001b[0m\u001b[0;34m[\u001b[0m\u001b[0;36m0.12047504\u001b[0m\u001b[0;34m,\u001b[0m \u001b[0;34m-\u001b[0m\u001b[0;36m0.44156746\u001b[0m\u001b[0;34m,\u001b[0m \u001b[0;34m-\u001b[0m\u001b[0;36m0.89309501\u001b[0m\u001b[0;34m,\u001b[0m \u001b[0;36m2.965364\u001b[0m\u001b[0;34m,\u001b[0m \u001b[0;36m3.3427994\u001b[0m\u001b[0;34m]\u001b[0m\u001b[0;34m)\u001b[0m\u001b[0;34m)\u001b[0m\u001b[0;34m\u001b[0m\u001b[0;34m\u001b[0m\u001b[0m\n\u001b[0m",
            "\u001b[0;31mAssertionError\u001b[0m: "
          ]
        }
      ]
    },
    {
      "cell_type": "markdown",
      "source": [
        "I was unable to connect to the zoom lesson today. I'll contact my fellow friends for assistance. thank you."
      ],
      "metadata": {
        "id": "XNKtAkRis8P3"
      }
    }
  ]
}