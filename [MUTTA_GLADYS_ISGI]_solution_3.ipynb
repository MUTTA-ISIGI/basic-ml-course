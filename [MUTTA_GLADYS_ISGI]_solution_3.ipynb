{
  "nbformat": 4,
  "nbformat_minor": 0,
  "metadata": {
    "colab": {
      "provenance": [],
      "collapsed_sections": [],
      "authorship_tag": "ABX9TyOIeTnEFU5csWLWKCu2uS04",
      "include_colab_link": true
    },
    "kernelspec": {
      "name": "python3",
      "display_name": "Python 3"
    },
    "language_info": {
      "name": "python"
    }
  },
  "cells": [
    {
      "cell_type": "markdown",
      "metadata": {
        "id": "view-in-github",
        "colab_type": "text"
      },
      "source": [
        "<a href=\"https://colab.research.google.com/github/MUTTA-ISIGI/basic-ml-course/blob/master/%5BMUTTA_GLADYS_ISGI%5D_solution_3.ipynb\" target=\"_parent\"><img src=\"https://colab.research.google.com/assets/colab-badge.svg\" alt=\"Open In Colab\"/></a>"
      ]
    },
    {
      "cell_type": "code",
      "execution_count": 21,
      "metadata": {
        "id": "qvszTznrbqo1"
      },
      "outputs": [],
      "source": [
        "import numpy as np\n",
        "import pandas as pd"
      ]
    },
    {
      "cell_type": "code",
      "source": [
        "from sklearn.datasets import load_iris\n",
        "data = load_iris()\n",
        "X, Y = data.data, data.target"
      ],
      "metadata": {
        "id": "XsMlJb-keFez"
      },
      "execution_count": 22,
      "outputs": []
    },
    {
      "cell_type": "code",
      "source": [
        "X.shape,Y.shape"
      ],
      "metadata": {
        "colab": {
          "base_uri": "https://localhost:8080/"
        },
        "id": "y8ZY8iSujlPG",
        "outputId": "68c82b6c-9cde-4536-9e99-583463b5d145"
      },
      "execution_count": 23,
      "outputs": [
        {
          "output_type": "execute_result",
          "data": {
            "text/plain": [
              "((150, 4), (150,))"
            ]
          },
          "metadata": {},
          "execution_count": 23
        }
      ]
    },
    {
      "cell_type": "code",
      "source": [
        "print(Y)"
      ],
      "metadata": {
        "colab": {
          "base_uri": "https://localhost:8080/"
        },
        "id": "Dcfy6pMtmCpZ",
        "outputId": "cd93b00e-9516-4a9e-af57-c5864d0813fc"
      },
      "execution_count": 24,
      "outputs": [
        {
          "output_type": "stream",
          "name": "stdout",
          "text": [
            "[0 0 0 0 0 0 0 0 0 0 0 0 0 0 0 0 0 0 0 0 0 0 0 0 0 0 0 0 0 0 0 0 0 0 0 0 0\n",
            " 0 0 0 0 0 0 0 0 0 0 0 0 0 1 1 1 1 1 1 1 1 1 1 1 1 1 1 1 1 1 1 1 1 1 1 1 1\n",
            " 1 1 1 1 1 1 1 1 1 1 1 1 1 1 1 1 1 1 1 1 1 1 1 1 1 1 2 2 2 2 2 2 2 2 2 2 2\n",
            " 2 2 2 2 2 2 2 2 2 2 2 2 2 2 2 2 2 2 2 2 2 2 2 2 2 2 2 2 2 2 2 2 2 2 2 2 2\n",
            " 2 2]\n"
          ]
        }
      ]
    },
    {
      "cell_type": "code",
      "source": [
        "# only classify class 1 vs. class 2\n",
        "# Your code here\n",
        "\n",
        "\n",
        "X = X[50:150]\n",
        "Y = Y[50:150]\n",
        " \n",
        "\n",
        "print(X.shape)\n",
        "print(Y.shape)\n",
        "\n",
        "Y -= 1 #We need our label to be 0 and 1\n",
        "\n",
        "assert X.shape == (100, 4) #just to make sure"
      ],
      "metadata": {
        "id": "KDc3xQDNeLlB",
        "colab": {
          "base_uri": "https://localhost:8080/"
        },
        "outputId": "430ebf70-e328-4090-c961-c3d6ad528bf6"
      },
      "execution_count": 25,
      "outputs": [
        {
          "output_type": "stream",
          "name": "stdout",
          "text": [
            "(100, 4)\n",
            "(100,)\n"
          ]
        }
      ]
    },
    {
      "cell_type": "code",
      "source": [
        "print(Y)"
      ],
      "metadata": {
        "colab": {
          "base_uri": "https://localhost:8080/"
        },
        "id": "biGbPcmkmTkn",
        "outputId": "ed28606b-6e02-4b21-eb81-6baaec37f8ac"
      },
      "execution_count": 26,
      "outputs": [
        {
          "output_type": "stream",
          "name": "stdout",
          "text": [
            "[0 0 0 0 0 0 0 0 0 0 0 0 0 0 0 0 0 0 0 0 0 0 0 0 0 0 0 0 0 0 0 0 0 0 0 0 0\n",
            " 0 0 0 0 0 0 0 0 0 0 0 0 0 1 1 1 1 1 1 1 1 1 1 1 1 1 1 1 1 1 1 1 1 1 1 1 1\n",
            " 1 1 1 1 1 1 1 1 1 1 1 1 1 1 1 1 1 1 1 1 1 1 1 1 1 1]\n"
          ]
        }
      ]
    },
    {
      "cell_type": "code",
      "source": [
        "# Write your code here.\n",
        "\n",
        "#x_means = X.mean()\n",
        "#x_stdevs = X.std()\n",
        "#X = (X - x_means) / x_stdevs\n",
        "import math\n",
        "def the_means(array):\n",
        "  feature_sum = sum(array)\n",
        "  return feature_sum/len(array)\n",
        "\n",
        "def std_dev(array, mean):\n",
        "  var  = 0\n",
        "  for feature in array:\n",
        "    var += ((feature - mean) ** 2)\n",
        "  var /= len(array)\n",
        "  std = math.sqrt(var)\n",
        "  return std\n",
        "\n",
        "def get_z_value(x,means,std_devs):\n",
        "  z = np.array([(x[i] - means[i])/std_devs[i] for i in range(len(x))])\n",
        "  return z\n",
        "  "
      ],
      "metadata": {
        "id": "p7M7lvU1iUXB"
      },
      "execution_count": 27,
      "outputs": []
    },
    {
      "cell_type": "code",
      "source": [
        "# Your code here\n",
        "X = np.hstack([np.ones([X.shape[0],1]), X])\n",
        "print(X.shape)\n",
        "\n",
        "\n",
        "# checking the shape of X\n",
        "assert X.shape == (100, 5)"
      ],
      "metadata": {
        "id": "zu5FfVng4jHf",
        "colab": {
          "base_uri": "https://localhost:8080/"
        },
        "outputId": "12ef4a38-bd26-41f5-ff30-13f78fb722ef"
      },
      "execution_count": 28,
      "outputs": [
        {
          "output_type": "stream",
          "name": "stdout",
          "text": [
            "(100, 5)\n"
          ]
        }
      ]
    },
    {
      "cell_type": "code",
      "source": [
        "\n",
        "# Your code here\n",
        "weight = np.zeros((5,))\n",
        "print(weight)\n",
        "print(weight.shape)\n",
        "\n",
        "assert weight.shape == (5, )"
      ],
      "metadata": {
        "colab": {
          "base_uri": "https://localhost:8080/"
        },
        "id": "KVD8YIpr6qtx",
        "outputId": "25a80c7c-2929-4432-9580-400d603187b6"
      },
      "execution_count": 29,
      "outputs": [
        {
          "output_type": "stream",
          "name": "stdout",
          "text": [
            "[0. 0. 0. 0. 0.]\n",
            "(5,)\n"
          ]
        }
      ]
    },
    {
      "cell_type": "code",
      "source": [
        "import numpy as np\n",
        "\n",
        "def sigmoid(z):\n",
        "    # Your code here\n",
        "    sigmoid =  1.0 / (1.0 + np.exp(-z))\n",
        "    return sigmoid"
      ],
      "metadata": {
        "id": "qt47ExMfA44j"
      },
      "execution_count": 30,
      "outputs": []
    },
    {
      "cell_type": "code",
      "source": [
        "from sklearn.linear_model import LogisticRegression\n",
        "def accuracy(X, Y, weight):\n",
        "    '''\n",
        "    Evaluate the model, represented by `weight`, with data (X, Y).\n",
        "    \n",
        "    Input:\n",
        "        X:      data features\n",
        "        Y:      data labels\n",
        "        weight: model weights\n",
        "    Ouput:\n",
        "        Model accuracy on input data.\n",
        "    '''\n",
        "    # implement your code here. Below are only some suggestion. \n",
        "    # You don't necessary have to follow the exact step\n",
        "\n",
        "    #Step 1: get the model prediction\n",
        "\n",
        "    #Step 2: Threshold the probability value to get the class. \n",
        "\n",
        "    #Step 3: Compare your model predicted classes with the label y\n",
        "\n",
        "    #step 4: calculate the accuracy using the formula above\n",
        "   # Defining a function which takes true values of the sample and values predicted by the model  \n",
        "    datapoints = len(Y)\n",
        "    Y_predict = sigmoid(X@weight)\n",
        "    Y_predict = (Y_predict < 2).astype(int)\n",
        "    correctly_predicted = 0\n",
        "    # iterating over every label and checking it with the true sample  \n",
        "    for Y_value in range (len(Y_predict), len(Y)):  \n",
        "        if Y_predict[Y_value] == Y[Y_value]:  \n",
        "            correctly_predicted += 1  \n",
        "    # computing the accuracy score  \n",
        "    accuracy_score = correctly_predicted / len(Y)  \n",
        "    return accuracy_score  \n",
        "accuracy(X, Y, weight)"
      ],
      "metadata": {
        "id": "pFRPe2jrJxXh",
        "colab": {
          "base_uri": "https://localhost:8080/"
        },
        "outputId": "497f55f1-29c8-41f5-b391-9837bb22f53f"
      },
      "execution_count": 31,
      "outputs": [
        {
          "output_type": "execute_result",
          "data": {
            "text/plain": [
              "0.0"
            ]
          },
          "metadata": {},
          "execution_count": 31
        }
      ]
    },
    {
      "cell_type": "code",
      "source": [
        "#Don't change these\n",
        "# learning rate\n",
        "alpha = 1e-2\n",
        "# epochs\n",
        "epoch = 10000"
      ],
      "metadata": {
        "id": "7d8hlWjs-VgV"
      },
      "execution_count": 32,
      "outputs": []
    },
    {
      "cell_type": "code",
      "source": [
        "# your code here\n",
        "\n",
        "for ep in range(epoch):\n",
        "      Y_predict =   sigmoid(X@weight)\n",
        "      cost_function = -np.sum(Y * (Y_predict) + (1 - Y) * (1 - Y_predict))\n",
        "      m = Y_predict.size\n",
        "      gradient = 1/m * X.T @(Y - Y_predict)\n",
        "      weight = weight - alpha * gradient\n",
        "      #accuracy =  cost_function/ weight\n",
        "#print(accuracy)\n",
        "\n",
        "# just to double check\n",
        "assert np.allclose(weight, np.array([0.12047504, -0.44156746, -0.89309501, 2.965364, 3.3427994]))"
      ],
      "metadata": {
        "colab": {
          "base_uri": "https://localhost:8080/",
          "height": 235
        },
        "id": "xgAIN36u-Ynk",
        "outputId": "3eaab439-a81d-41f5-edfd-e0b818b267ed"
      },
      "execution_count": 33,
      "outputs": [
        {
          "output_type": "stream",
          "name": "stderr",
          "text": [
            "/usr/local/lib/python3.7/dist-packages/ipykernel_launcher.py:5: RuntimeWarning: overflow encountered in exp\n",
            "  \"\"\"\n"
          ]
        },
        {
          "output_type": "error",
          "ename": "AssertionError",
          "evalue": "ignored",
          "traceback": [
            "\u001b[0;31m---------------------------------------------------------------------------\u001b[0m",
            "\u001b[0;31mAssertionError\u001b[0m                            Traceback (most recent call last)",
            "\u001b[0;32m<ipython-input-33-5dd155d6ed9f>\u001b[0m in \u001b[0;36m<module>\u001b[0;34m\u001b[0m\n\u001b[1;32m     11\u001b[0m \u001b[0;34m\u001b[0m\u001b[0m\n\u001b[1;32m     12\u001b[0m \u001b[0;31m# just to double check\u001b[0m\u001b[0;34m\u001b[0m\u001b[0;34m\u001b[0m\u001b[0;34m\u001b[0m\u001b[0m\n\u001b[0;32m---> 13\u001b[0;31m \u001b[0;32massert\u001b[0m \u001b[0mnp\u001b[0m\u001b[0;34m.\u001b[0m\u001b[0mallclose\u001b[0m\u001b[0;34m(\u001b[0m\u001b[0mweight\u001b[0m\u001b[0;34m,\u001b[0m \u001b[0mnp\u001b[0m\u001b[0;34m.\u001b[0m\u001b[0marray\u001b[0m\u001b[0;34m(\u001b[0m\u001b[0;34m[\u001b[0m\u001b[0;36m0.12047504\u001b[0m\u001b[0;34m,\u001b[0m \u001b[0;34m-\u001b[0m\u001b[0;36m0.44156746\u001b[0m\u001b[0;34m,\u001b[0m \u001b[0;34m-\u001b[0m\u001b[0;36m0.89309501\u001b[0m\u001b[0;34m,\u001b[0m \u001b[0;36m2.965364\u001b[0m\u001b[0;34m,\u001b[0m \u001b[0;36m3.3427994\u001b[0m\u001b[0;34m]\u001b[0m\u001b[0;34m)\u001b[0m\u001b[0;34m)\u001b[0m\u001b[0;34m\u001b[0m\u001b[0;34m\u001b[0m\u001b[0m\n\u001b[0m",
            "\u001b[0;31mAssertionError\u001b[0m: "
          ]
        }
      ]
    },
    {
      "cell_type": "code",
      "source": [
        "# model accuracy\n",
        "accuracy(X, Y, weight)"
      ],
      "metadata": {
        "colab": {
          "base_uri": "https://localhost:8080/"
        },
        "id": "xx8cmzUV_eEh",
        "outputId": "0622ec79-f7bb-4445-94a7-61c1f0231345"
      },
      "execution_count": 34,
      "outputs": [
        {
          "output_type": "stream",
          "name": "stderr",
          "text": [
            "/usr/local/lib/python3.7/dist-packages/ipykernel_launcher.py:5: RuntimeWarning: overflow encountered in exp\n",
            "  \"\"\"\n"
          ]
        },
        {
          "output_type": "execute_result",
          "data": {
            "text/plain": [
              "0.0"
            ]
          },
          "metadata": {},
          "execution_count": 34
        }
      ]
    },
    {
      "cell_type": "code",
      "source": [
        "print('Weights:', weight)\n",
        "y = 1 / (1 + np.exp(-X @ weight))\n",
        "loss = -np.sum(Y * np.log(y) + (1 - Y) * np.log(1 - y)) / y.size\n",
        "print('Loss:', loss)\n",
        "print('Accuracy:', accuracy(X, Y, weight))"
      ],
      "metadata": {
        "colab": {
          "base_uri": "https://localhost:8080/"
        },
        "id": "d8uEABIb_kKH",
        "outputId": "4abe6978-abf4-4780-9dd0-1209cd6eaf75"
      },
      "execution_count": 35,
      "outputs": [
        {
          "output_type": "stream",
          "name": "stdout",
          "text": [
            "Weights: [ -49.93825061 -329.01546806 -148.5234062  -277.29987056 -101.19773518]\n",
            "Loss: nan\n",
            "Accuracy: 0.0\n"
          ]
        },
        {
          "output_type": "stream",
          "name": "stderr",
          "text": [
            "/usr/local/lib/python3.7/dist-packages/ipykernel_launcher.py:2: RuntimeWarning: overflow encountered in exp\n",
            "  \n",
            "/usr/local/lib/python3.7/dist-packages/ipykernel_launcher.py:3: RuntimeWarning: divide by zero encountered in log\n",
            "  This is separate from the ipykernel package so we can avoid doing imports until\n",
            "/usr/local/lib/python3.7/dist-packages/ipykernel_launcher.py:3: RuntimeWarning: invalid value encountered in multiply\n",
            "  This is separate from the ipykernel package so we can avoid doing imports until\n",
            "/usr/local/lib/python3.7/dist-packages/ipykernel_launcher.py:5: RuntimeWarning: overflow encountered in exp\n",
            "  \"\"\"\n"
          ]
        }
      ]
    },
    {
      "cell_type": "markdown",
      "source": [
        "I was unable to connect to the zoom lesson today. I'll contact my fellow friends for assistance. thank you."
      ],
      "metadata": {
        "id": "XNKtAkRis8P3"
      }
    }
  ]
}