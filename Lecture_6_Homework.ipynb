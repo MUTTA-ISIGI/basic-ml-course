{
  "nbformat": 4,
  "nbformat_minor": 0,
  "metadata": {
    "colab": {
      "provenance": [],
      "include_colab_link": true
    },
    "kernelspec": {
      "name": "python3",
      "display_name": "Python 3"
    },
    "language_info": {
      "name": "python"
    }
  },
  "cells": [
    {
      "cell_type": "markdown",
      "metadata": {
        "id": "view-in-github",
        "colab_type": "text"
      },
      "source": [
        "<a href=\"https://colab.research.google.com/github/MUTTA-ISIGI/basic-ml-course/blob/Week_6/Lecture_6_Homework.ipynb\" target=\"_parent\"><img src=\"https://colab.research.google.com/assets/colab-badge.svg\" alt=\"Open In Colab\"/></a>"
      ]
    },
    {
      "cell_type": "markdown",
      "source": [
        "# Homework 6: Decision tree & Random forest\n",
        "\n",
        "Good news! We don't have to implement anything from scratch today!\n",
        "\n",
        "To make things easier, make a copy of this notebook and do the exercise in there.\n",
        "\n",
        "Implement everywhere that has ..."
      ],
      "metadata": {
        "id": "JhpQ0Psh6CYr"
      }
    },
    {
      "cell_type": "code",
      "source": [
        "import pandas as pd\n",
        "import numpy as np \n",
        "import matplotlib.pyplot as plt\n",
        "from sklearn.datasets import fetch_california_housing"
      ],
      "metadata": {
        "id": "SDV_S_yM5lIP"
      },
      "execution_count": 53,
      "outputs": []
    },
    {
      "cell_type": "code",
      "execution_count": 54,
      "metadata": {
        "id": "jgWYc7Im5kiN",
        "colab": {
          "base_uri": "https://localhost:8080/"
        },
        "outputId": "6d188d08-82e2-4c98-fcbc-446993ad02af"
      },
      "outputs": [
        {
          "output_type": "stream",
          "name": "stdout",
          "text": [
            "(20640, 8) (20640,)\n"
          ]
        }
      ],
      "source": [
        "# Load the data\n",
        "data = fetch_california_housing()\n",
        "X, y = data.data, data.target\n",
        "feature_names = data.feature_names\n",
        "print(X.shape, y.shape)"
      ]
    },
    {
      "cell_type": "code",
      "source": [
        "print(feature_names)"
      ],
      "metadata": {
        "colab": {
          "base_uri": "https://localhost:8080/"
        },
        "id": "qTixTGLYJniU",
        "outputId": "d8fd5429-30b1-4a27-a150-9fbf1cb89301"
      },
      "execution_count": 55,
      "outputs": [
        {
          "output_type": "stream",
          "name": "stdout",
          "text": [
            "['MedInc', 'HouseAge', 'AveRooms', 'AveBedrms', 'Population', 'AveOccup', 'Latitude', 'Longitude']\n"
          ]
        }
      ]
    },
    {
      "cell_type": "markdown",
      "source": [
        "## Task 1 (1pt)\n",
        "\n",
        "* Split the data into a training and validation set with 80%/20% distribution\n",
        "* Use [train_test_split](https://scikit-learn.org/stable/modules/generated/sklearn.model_selection.train_test_split.html) function from sklearn for this. Remember to set the `random_state` parameter to 0 \n",
        "\n",
        "\n"
      ],
      "metadata": {
        "id": "4__JnyX_8Cxn"
      }
    },
    {
      "cell_type": "code",
      "source": [
        "from sklearn.model_selection import train_test_split\n",
        "X_train, X_valid, y_train, y_valid = train_test_split(X, y, test_size = 0.2, random_state = 0)"
      ],
      "metadata": {
        "id": "_C-xPZOe7Qm5"
      },
      "execution_count": 56,
      "outputs": []
    },
    {
      "cell_type": "markdown",
      "source": [
        "## Task 2 (1 pt)\n",
        "Train a decision tree model to predict house price. Remember to use the training set `X_train` to train the model\n",
        "* Train a model with `max_depth=1`. Remember to set the `random_state=0` \n",
        "* Visualize the tree you just trained. You can refer to the code from the lecture video. \n",
        "* Which feature was used to split the data (choose 1 and write you answer in a comment below the code\n",
        "    * `MedInc`\n",
        "    * `AveRooms`\n",
        "    * `AveBedrms`\n",
        "    * `HouseAge`"
      ],
      "metadata": {
        "id": "AZsxbOnH97Y3"
      }
    },
    {
      "cell_type": "code",
      "source": [
        "from sklearn.tree import DecisionTreeRegressor, export_graphviz\n",
        "# for visualization\n",
        "import graphviz"
      ],
      "metadata": {
        "id": "ETFCCvHA-V4d"
      },
      "execution_count": 57,
      "outputs": []
    },
    {
      "cell_type": "code",
      "source": [
        "# Initialize the decision tree class and train the decision tree\n",
        "tree = DecisionTreeRegressor(max_depth=1, random_state=0)\n",
        "tree = tree.fit(X_train,y_train)\n",
        "\n",
        "# Visualize the tree\n",
        "\n",
        "graph = graphviz.Source(export_graphviz(tree,  \n",
        "                filled=True, \n",
        "                rounded=True,\n",
        "                special_characters=True, \n",
        "                feature_names = data['feature_names']) )\n",
        "\n",
        "# Write you answer here: ...\n",
        "print(\"Here's the answer:\")\n",
        "graph"
      ],
      "metadata": {
        "id": "Z2iwlEYR9xPo",
        "colab": {
          "base_uri": "https://localhost:8080/",
          "height": 259
        },
        "outputId": "bd7ae2be-9d48-4be5-9e15-3a30d526b6ca"
      },
      "execution_count": 58,
      "outputs": [
        {
          "output_type": "stream",
          "name": "stdout",
          "text": [
            "Here's the answer:\n"
          ]
        },
        {
          "output_type": "execute_result",
          "data": {
            "text/plain": [
              "<graphviz.files.Source at 0x7efe10efa710>"
            ],
            "image/svg+xml": "<?xml version=\"1.0\" encoding=\"UTF-8\" standalone=\"no\"?>\n<!DOCTYPE svg PUBLIC \"-//W3C//DTD SVG 1.1//EN\"\n \"http://www.w3.org/Graphics/SVG/1.1/DTD/svg11.dtd\">\n<!-- Generated by graphviz version 2.40.1 (20161225.0304)\n -->\n<!-- Title: Tree Pages: 1 -->\n<svg width=\"348pt\" height=\"165pt\"\n viewBox=\"0.00 0.00 348.00 165.00\" xmlns=\"http://www.w3.org/2000/svg\" xmlns:xlink=\"http://www.w3.org/1999/xlink\">\n<g id=\"graph0\" class=\"graph\" transform=\"scale(1 1) rotate(0) translate(4 161)\">\n<title>Tree</title>\n<polygon fill=\"#ffffff\" stroke=\"transparent\" points=\"-4,4 -4,-161 344,-161 344,4 -4,4\"/>\n<!-- 0 -->\n<g id=\"node1\" class=\"node\">\n<title>0</title>\n<path fill=\"#f9e4d5\" stroke=\"#000000\" d=\"M238,-157C238,-157 101,-157 101,-157 95,-157 89,-151 89,-145 89,-145 89,-101 89,-101 89,-95 95,-89 101,-89 101,-89 238,-89 238,-89 244,-89 250,-95 250,-101 250,-101 250,-145 250,-145 250,-151 244,-157 238,-157\"/>\n<text text-anchor=\"start\" x=\"119.5\" y=\"-141.8\" font-family=\"Helvetica,sans-Serif\" font-size=\"14.00\" fill=\"#000000\">MedInc ≤ 5.029</text>\n<text text-anchor=\"start\" x=\"97\" y=\"-126.8\" font-family=\"Helvetica,sans-Serif\" font-size=\"14.00\" fill=\"#000000\">squared_error = 1.338</text>\n<text text-anchor=\"start\" x=\"113.5\" y=\"-111.8\" font-family=\"Helvetica,sans-Serif\" font-size=\"14.00\" fill=\"#000000\">samples = 16512</text>\n<text text-anchor=\"start\" x=\"125.5\" y=\"-96.8\" font-family=\"Helvetica,sans-Serif\" font-size=\"14.00\" fill=\"#000000\">value = 2.072</text>\n</g>\n<!-- 1 -->\n<g id=\"node2\" class=\"node\">\n<title>1</title>\n<path fill=\"#ffffff\" stroke=\"#000000\" d=\"M149,-53C149,-53 12,-53 12,-53 6,-53 0,-47 0,-41 0,-41 0,-12 0,-12 0,-6 6,0 12,0 12,0 149,0 149,0 155,0 161,-6 161,-12 161,-12 161,-41 161,-41 161,-47 155,-53 149,-53\"/>\n<text text-anchor=\"start\" x=\"8\" y=\"-37.8\" font-family=\"Helvetica,sans-Serif\" font-size=\"14.00\" fill=\"#000000\">squared_error = 0.833</text>\n<text text-anchor=\"start\" x=\"24.5\" y=\"-22.8\" font-family=\"Helvetica,sans-Serif\" font-size=\"14.00\" fill=\"#000000\">samples = 12979</text>\n<text text-anchor=\"start\" x=\"36.5\" y=\"-7.8\" font-family=\"Helvetica,sans-Serif\" font-size=\"14.00\" fill=\"#000000\">value = 1.733</text>\n</g>\n<!-- 0&#45;&gt;1 -->\n<g id=\"edge1\" class=\"edge\">\n<title>0&#45;&gt;1</title>\n<path fill=\"none\" stroke=\"#000000\" d=\"M138.1219,-88.9777C129.6766,-79.8207 120.5389,-69.9129 112.0825,-60.744\"/>\n<polygon fill=\"#000000\" stroke=\"#000000\" points=\"114.5221,-58.2266 105.1696,-53.2485 109.3764,-62.9723 114.5221,-58.2266\"/>\n<text text-anchor=\"middle\" x=\"104.1596\" y=\"-74.5281\" font-family=\"Helvetica,sans-Serif\" font-size=\"14.00\" fill=\"#000000\">True</text>\n</g>\n<!-- 2 -->\n<g id=\"node3\" class=\"node\">\n<title>2</title>\n<path fill=\"#e58139\" stroke=\"#000000\" d=\"M328,-53C328,-53 191,-53 191,-53 185,-53 179,-47 179,-41 179,-41 179,-12 179,-12 179,-6 185,0 191,0 191,0 328,0 328,0 334,0 340,-6 340,-12 340,-12 340,-41 340,-41 340,-47 334,-53 328,-53\"/>\n<text text-anchor=\"start\" x=\"187\" y=\"-37.8\" font-family=\"Helvetica,sans-Serif\" font-size=\"14.00\" fill=\"#000000\">squared_error = 1.218</text>\n<text text-anchor=\"start\" x=\"207.5\" y=\"-22.8\" font-family=\"Helvetica,sans-Serif\" font-size=\"14.00\" fill=\"#000000\">samples = 3533</text>\n<text text-anchor=\"start\" x=\"215.5\" y=\"-7.8\" font-family=\"Helvetica,sans-Serif\" font-size=\"14.00\" fill=\"#000000\">value = 3.319</text>\n</g>\n<!-- 0&#45;&gt;2 -->\n<g id=\"edge2\" class=\"edge\">\n<title>0&#45;&gt;2</title>\n<path fill=\"none\" stroke=\"#000000\" d=\"M201.2306,-88.9777C209.7708,-79.8207 219.0113,-69.9129 227.5626,-60.744\"/>\n<polygon fill=\"#000000\" stroke=\"#000000\" points=\"230.2923,-62.9488 234.5532,-53.2485 225.1731,-58.1744 230.2923,-62.9488\"/>\n<text text-anchor=\"middle\" x=\"235.424\" y=\"-74.5333\" font-family=\"Helvetica,sans-Serif\" font-size=\"14.00\" fill=\"#000000\">False</text>\n</g>\n</g>\n</svg>\n"
          },
          "metadata": {},
          "execution_count": 58
        }
      ]
    },
    {
      "cell_type": "markdown",
      "source": [
        "## Task 3 (2pt)\n",
        "* Train a decision tree with `max_depth=3`.\n",
        "* Don't forget `random_state=0`\n",
        "* Print the mean square error on the validation set.\n",
        "* What is the mean square error you just calculate.\n",
        " Write you answer in the comment below the code.\n"
      ],
      "metadata": {
        "id": "VKKSFfc1BZNT"
      }
    },
    {
      "cell_type": "code",
      "source": [
        "\n",
        "# Train the model\n",
        "from sklearn.metrics import mean_squared_error\n",
        "tree_X = DecisionTreeRegressor(max_depth=3, random_state=0)\n",
        "tree_X = tree.fit(X_train,y_train)\n",
        "prediction = tree_X.predict(X_valid)\n",
        "\n",
        "# Print the mean squared error\n",
        "mse = mean_squared_error(y_valid, prediction)\n",
        "\n",
        "\n",
        "# What's the mean squared error you just calculate: \n",
        "print(\"The mean squared error is:\",mse)"
      ],
      "metadata": {
        "id": "7XIzWfHXAdaP",
        "colab": {
          "base_uri": "https://localhost:8080/"
        },
        "outputId": "fc2d8efc-2b94-43b3-8dd0-69574808c7e1"
      },
      "execution_count": 59,
      "outputs": [
        {
          "output_type": "stream",
          "name": "stdout",
          "text": [
            "The mean squared error is: 0.9331718110164576\n"
          ]
        }
      ]
    },
    {
      "cell_type": "markdown",
      "source": [
        "## Task 4 (2pt)\n",
        "Tune the `max_depth` parameter of the model\n",
        "* Try different values for `max_depth`: `[5, 6, 7, 8, 9, 10, 11, 12]`\n",
        "* Don't forget `random_state=0`\n",
        "* Print out the mean square error for each value of `max_depth`\n",
        "* What is the best value for `max_depth`? Write you answer in the comment below the code."
      ],
      "metadata": {
        "id": "vUpkklmCDpkB"
      }
    },
    {
      "cell_type": "code",
      "source": [
        "# Your code here\n",
        "heighest_mse = 1\n",
        "for depth in [5, 6, 7, 8, 9, 10, 11, 12]:\n",
        "\n",
        "  tree = DecisionTreeRegressor(max_depth=depth, random_state=0)\n",
        "  tree = tree.fit(X_train,y_train)\n",
        "  prediction = tree.predict(X_valid)\n",
        "\n",
        "# Print the mean squared error\n",
        "  mse = mean_squared_error(y_valid, prediction)\n",
        "  print('The Training Accuracy for depth %s'%(depth) + \" MSE is \" ,mse)\n",
        "\n",
        "# What's the best max_depth: \n",
        "  if heighest_mse > mse:\n",
        "    heighest_mse = mse\n",
        "print(\"The best max_depth MSE is : \",heighest_mse)"
      ],
      "metadata": {
        "id": "aWy1Jy5dDR83",
        "colab": {
          "base_uri": "https://localhost:8080/"
        },
        "outputId": "e61bb285-59f8-4d97-c167-5ba5eeca7f63"
      },
      "execution_count": 60,
      "outputs": [
        {
          "output_type": "stream",
          "name": "stdout",
          "text": [
            "The Training Accuracy for depth 5 MSE is  0.5401962207714344\n",
            "The Training Accuracy for depth 6 MSE is  0.4984109265539033\n",
            "The Training Accuracy for depth 7 MSE is  0.4596987909870867\n",
            "The Training Accuracy for depth 8 MSE is  0.44604575226916726\n",
            "The Training Accuracy for depth 9 MSE is  0.4313636207268005\n",
            "The Training Accuracy for depth 10 MSE is  0.4470239650247865\n",
            "The Training Accuracy for depth 11 MSE is  0.444291361570811\n",
            "The Training Accuracy for depth 12 MSE is  0.45049079652055624\n",
            "The best max_depth MSE is :  0.4313636207268005\n"
          ]
        }
      ]
    },
    {
      "cell_type": "markdown",
      "source": [
        "## Task 5 (1pt)\n",
        "Let's switch to random forest\n",
        "\n",
        "Train a random forest model with\n",
        "* n_estimators=20\n",
        "* random_state=0\n",
        "\n",
        "What is the mean square error on the validation set? Write you answer in the comment below the code"
      ],
      "metadata": {
        "id": "QYKcXabRF51e"
      }
    },
    {
      "cell_type": "code",
      "source": [
        "from sklearn.ensemble import RandomForestRegressor\n"
      ],
      "metadata": {
        "id": "IzvkkR8jEZWZ"
      },
      "execution_count": 61,
      "outputs": []
    },
    {
      "cell_type": "code",
      "source": [
        "# Your code here\n",
        "regressor = RandomForestRegressor(n_estimators=20,random_state=0)\n",
        "regressor.fit(X_train,y_train)\n",
        "pred= regressor.predict(X_valid)\n",
        "\n",
        "#The mean square error on the validation set\n",
        "mse = mean_squared_error(y_valid, pred)\n",
        "print(\"Mean Square Error on the validation set is \",mse)\n"
      ],
      "metadata": {
        "id": "BgAZx5dhGxfI",
        "colab": {
          "base_uri": "https://localhost:8080/"
        },
        "outputId": "2d71fe67-e4b6-4f56-b27b-45a45474e3e1"
      },
      "execution_count": 64,
      "outputs": [
        {
          "output_type": "stream",
          "name": "stdout",
          "text": [
            "Mean Square Error on the validation set is  0.26946775214546204\n"
          ]
        }
      ]
    },
    {
      "cell_type": "markdown",
      "source": [
        "## Task 6 (2pt)\n",
        "Tune different hyperparameter of random forest\n",
        "* `random_state=0`\n",
        "* Try different values for `max_features`: `[0.5, 'sqrt', 'log2']`\n",
        "* For each of these values for `max_features`, try different values of `n_estimators` from 10 to 100 (with step size 10): i.e `[10, 20, 30, ...]` \n",
        "* Optionally set `n_jobs=-1` to train faster"
      ],
      "metadata": {
        "id": "4VX2PLb2H1rL"
      }
    },
    {
      "cell_type": "code",
      "source": [
        "# Your code here \n",
        "from sklearn.model_selection import RandomizedSearchCV\n",
        "parameters={\n",
        "            \"max_depth\" : [1,3,5,7,9,11,12],\n",
        "            'n_estimators': np.arange(10,110,10),\n",
        "           \"max_features\":[\"auto\",\"sqrt\",'log2']}\n",
        "\n",
        "X = RandomForestRegressor()\n",
        "X_random = RandomizedSearchCV(estimator = X,random_state=0, n_jobs = -1,cv= 5,verbose = 2, param_distributions = parameters)\n",
        "X_random.fit(X_train, y_train) \n",
        "print(X_random.best_params_)"
      ],
      "metadata": {
        "id": "-XKDGYOFJcew",
        "colab": {
          "base_uri": "https://localhost:8080/"
        },
        "outputId": "7ab95cdb-e4c3-4224-f7b2-495585a99a5f"
      },
      "execution_count": 66,
      "outputs": [
        {
          "output_type": "stream",
          "name": "stdout",
          "text": [
            "Fitting 5 folds for each of 10 candidates, totalling 50 fits\n",
            "{'n_estimators': 90, 'max_features': 'auto', 'max_depth': 12}\n"
          ]
        }
      ]
    },
    {
      "cell_type": "markdown",
      "source": [
        "## Task 7 (1pt)\n",
        "\n",
        "Extract feature importance of the model\n",
        "Train a random forest model with:\n",
        "* `n_estimators=10`\n",
        "* `max_dept=15`\n",
        "* `random_state=0`\n",
        "\n",
        "Get the feature importance attribute of the model. You can use the `feature_importances_` attibute \n",
        "\n",
        "What is the most important feature? write your answer in a comment in the code cell below."
      ],
      "metadata": {
        "id": "-M5fPzEvLfRL"
      }
    },
    {
      "cell_type": "code",
      "source": [
        "# Train your model\n",
        "X = RandomForestRegressor()\n",
        "X.fit(X_train, y_train)\n",
        "\n",
        "# Get feature importance\n",
        "feature_importances = X.feature_importances_"
      ],
      "metadata": {
        "id": "MLD-XuzuKOBS"
      },
      "execution_count": 68,
      "outputs": []
    },
    {
      "cell_type": "code",
      "source": [
        "df_importances = pd.DataFrame()\n",
        "df_importances['feature'] = feature_names\n",
        "df_importances['importance'] = feature_importances\n",
        "df_importances.sort_values(by='importance', inplace=True)\n",
        "\n",
        "plt.barh(range(df_importances.shape[0]), df_importances.importance)\n",
        "plt.yticks(range(df_importances.shape[0]), df_importances.feature)\n",
        "\n",
        "plt.show()\n",
        "\n",
        "#The most important feature: \n"
      ],
      "metadata": {
        "id": "sE1h5YOgMKQM",
        "colab": {
          "base_uri": "https://localhost:8080/",
          "height": 265
        },
        "outputId": "bbb1ef01-d01f-4f5f-fa8f-ecf7c6b3130d"
      },
      "execution_count": 69,
      "outputs": [
        {
          "output_type": "display_data",
          "data": {
            "text/plain": [
              "<Figure size 432x288 with 1 Axes>"
            ],
            "image/png": "[encoded data removed]"
          },
          "metadata": {
            "needs_background": "light"
          }
        }
      ]
    },
    {
      "cell_type": "code",
      "source": [],
      "metadata": {
        "id": "aLPbBYD7NYt0"
      },
      "execution_count": 69,
      "outputs": []
    }
  ]
}